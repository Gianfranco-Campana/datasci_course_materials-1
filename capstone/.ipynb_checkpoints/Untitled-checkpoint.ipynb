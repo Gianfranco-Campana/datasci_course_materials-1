{
 "cells": [
  {
   "cell_type": "code",
   "execution_count": 1,
   "metadata": {
    "collapsed": false
   },
   "outputs": [
    {
     "data": {
      "text/plain": [
       "               _                           \n",
       "platform       x86_64-w64-mingw32          \n",
       "arch           x86_64                      \n",
       "os             mingw32                     \n",
       "system         x86_64, mingw32             \n",
       "status                                     \n",
       "major          3                           \n",
       "minor          2.2                         \n",
       "year           2015                        \n",
       "month          08                          \n",
       "day            14                          \n",
       "svn rev        69053                       \n",
       "language       R                           \n",
       "version.string R version 3.2.2 (2015-08-14)\n",
       "nickname       Fire Safety                 "
      ]
     },
     "metadata": {},
     "output_type": "display_data"
    }
   ],
   "source": [
    "version"
   ]
  },
  {
   "cell_type": "code",
   "execution_count": 5,
   "metadata": {
    "collapsed": true
   },
   "outputs": [],
   "source": [
    "options(warn=-1)"
   ]
  },
  {
   "cell_type": "code",
   "execution_count": 31,
   "metadata": {
    "collapsed": false
   },
   "outputs": [
    {
     "data": {
      "text/html": [
       "\"English_United States.1252\""
      ],
      "text/latex": [
       "\"English_United States.1252\""
      ],
      "text/markdown": [
       "\"English_United States.1252\""
      ],
      "text/plain": [
       "[1] \"English_United States.1252\""
      ]
     },
     "metadata": {},
     "output_type": "display_data"
    }
   ],
   "source": [
    "Sys.setlocale(\"LC_TIME\", \"English\")\n",
    "options(jupyter.plot_mimetypes = 'image/png')\n",
    "det311   <- read.csv(\"./blight/data/detroit-311.csv\", header = T, sep = \",\", stringsAsFactors = F)     \n",
    "detviol  <- read.csv(\"./blight/data/detroit-blight-violations.csv\", header = T, sep = \",\", stringsAsFactors = F)   \n",
    "detcrime <- read.csv(\"./blight/data/detroit-crime.csv\", header = T, sep=\",\", stringsAsFactors = F)     \n",
    "detdem   <- read.csv(\"./blight/data/detroit-demolition-permits.tsv\", header = T, sep=\"\\t\", stringsAsFactors = F)   \n"
   ]
  },
  {
   "cell_type": "code",
   "execution_count": 3,
   "metadata": {
    "collapsed": false
   },
   "outputs": [
    {
     "data": {
      "text/html": [
       "<table>\n",
       "<thead><tr><th></th><th scope=col>PERMIT_NO</th><th scope=col>PERMIT_APPLIED</th><th scope=col>PERMIT_ISSUED</th><th scope=col>PERMIT_EXPIRES</th><th scope=col>SITE_ADDRESS</th><th scope=col>BETWEEN1</th><th scope=col>PARCEL_NO</th><th scope=col>LOT_NUMBER</th><th scope=col>SUBDIVISION</th><th scope=col>CASE_TYPE</th><th scope=col>ellip.h</th><th scope=col>CONTRACTOR_ADDRESS1</th><th scope=col>CONTRACTOR_ADDRESS2</th><th scope=col>CONTRACTOR_CITY</th><th scope=col>CONTRACTOR_STATE</th><th scope=col>CONTRACTOR_ZIP</th><th scope=col>CONDITION_FOR_APPROVAL</th><th scope=col>site_location</th><th scope=col>owner_location</th><th scope=col>contractor_location</th><th scope=col>geom</th></tr></thead>\n",
       "<tbody>\n",
       "\t<tr><th scope=row>1</th><td>BLD2015-03955</td><td>8/28/15</td><td>8/28/15</td><td></td><td>4331  BARHAM</td><td>BETWEEN VOIGHT AND WAVENEY</td><td>21 65525-6</td><td>S15</td><td></td><td>BLD</td><td><e2><8b><af></td><td>13500 FOLEY</td><td></td><td>DETROIT</td><td></td><td>48227</td><td></td><td>4331 BARHAM\n",
       "Detroit, MI\n",
       "(42.394106, -82.9474)</td><td>65 CADILLAC\n",
       "DETROIT, MI\n",
       "(42.331741326000042, -83.04515387899994)</td><td>13500 FOLEY\n",
       "DETROIT, MI\n",
       "(42.379332, -83.177501)</td><td></td></tr>\n",
       "\t<tr><th scope=row>2</th><td>BLD2015-04083</td><td>8/28/15</td><td>8/28/15</td><td></td><td>9707  BESSEMORE</td><td>BETWEEN VINTON AND GRATIOT</td><td>19 2312.</td><td>40</td><td></td><td>BLD</td><td><e2><8b><af></td><td>13500 FOLEY</td><td></td><td>DETROIT</td><td></td><td>48227</td><td></td><td>9707 BESSEMORE\n",
       "Detroit, MI\n",
       "(42.395122, -83.005077)</td><td>65 CADILLAC\n",
       "DETROIT, MI\n",
       "(42.331741326000042, -83.04515387899994)</td><td>13500 FOLEY\n",
       "DETROIT, MI\n",
       "(42.379332, -83.177501)</td><td></td></tr>\n",
       "</tbody>\n",
       "</table>\n"
      ],
      "text/latex": [
       "\\begin{tabular}{r|lllllllllllllllllllllllllllllllllllllllllllllllllllllll}\n",
       "  & PERMIT_NO & PERMIT_APPLIED & PERMIT_ISSUED & PERMIT_EXPIRES & SITE_ADDRESS & BETWEEN1 & PARCEL_NO & LOT_NUMBER & SUBDIVISION & CASE_TYPE & ellip.h & CONTRACTOR_ADDRESS1 & CONTRACTOR_ADDRESS2 & CONTRACTOR_CITY & CONTRACTOR_STATE & CONTRACTOR_ZIP & CONDITION_FOR_APPROVAL & site_location & owner_location & contractor_location & geom\\\\\n",
       "\\hline\n",
       "\t1 & BLD2015-03955 & 8/28/15 & 8/28/15 &  & 4331  BARHAM & BETWEEN VOIGHT AND WAVENEY & 21 65525-6 & S15 &  & BLD & <e2><8b><af> & 13500 FOLEY &  & DETROIT &  & 48227 &  & 4331 BARHAM\n",
       "Detroit, MI\n",
       "(42.394106, -82.9474) & 65 CADILLAC\n",
       "DETROIT, MI\n",
       "(42.331741326000042, -83.04515387899994) & 13500 FOLEY\n",
       "DETROIT, MI\n",
       "(42.379332, -83.177501) & \\\\\n",
       "\t2 & BLD2015-04083 & 8/28/15 & 8/28/15 &  & 9707  BESSEMORE & BETWEEN VINTON AND GRATIOT & 19 2312. & 40 &  & BLD & <e2><8b><af> & 13500 FOLEY &  & DETROIT &  & 48227 &  & 9707 BESSEMORE\n",
       "Detroit, MI\n",
       "(42.395122, -83.005077) & 65 CADILLAC\n",
       "DETROIT, MI\n",
       "(42.331741326000042, -83.04515387899994) & 13500 FOLEY\n",
       "DETROIT, MI\n",
       "(42.379332, -83.177501) & \\\\\n",
       "\\end{tabular}\n"
      ],
      "text/plain": [
       "      PERMIT_NO PERMIT_APPLIED PERMIT_ISSUED PERMIT_EXPIRES    SITE_ADDRESS\n",
       "1 BLD2015-03955        8/28/15       8/28/15                   4331  BARHAM\n",
       "2 BLD2015-04083        8/28/15       8/28/15                9707  BESSEMORE\n",
       "                    BETWEEN1  PARCEL_NO LOT_NUMBER SUBDIVISION CASE_TYPE\n",
       "1 BETWEEN VOIGHT AND WAVENEY 21 65525-6        S15                   BLD\n",
       "2 BETWEEN VINTON AND GRATIOT   19 2312.         40                   BLD\n",
       "  CASE_DESCRIPTION              LEGAL_USE ESTIMATED_COST PARCEL_SIZE\n",
       "1  Building Permit           I - FAM DWLG                       5184\n",
       "2  Building Permit SINGLE FAMILY DWELLING                       3006\n",
       "  PARCEL_CLUSTER_SECTOR STORIES PARCEL_FLOOR_AREA PARCEL_GROUND_AREA\n",
       "1                     3      NA                 0                829\n",
       "2                     1       1                 0                799\n",
       "  PRC_AKA_ADDRESS BLD_PERMIT_TYPE PERMIT_DESCRIPTION BLD_PERMIT_DESC\n",
       "1                       Dismantle                                   \n",
       "2                       Dismantle                                   \n",
       "         BLD_TYPE_USE RESIDENTIAL DESCRIPTION BLD_TYPE_CONST_COD\n",
       "1 One Family Dwelling RESIDENTIAL                             5B\n",
       "2 One Family Dwelling RESIDENTIAL                             5B\n",
       "  BLD_ZONING_DIST BLD_USE_GROUP BLD_BASEMENT FEE_TYPE    CSM_CASENO\n",
       "1              R2            R3            Y     WPMT BLD2015-03955\n",
       "2              R1            R3                  WPMT BLD2015-04083\n",
       "  CSF_CREATED_BY SEQ_NO PCF_AMT_PD PCF_AMT_DUE PCF_UPDATED\n",
       "1            RSA      1                $238.00            \n",
       "2           B-RB      1                $238.00            \n",
       "         OWNER_LAST_NAME OWNER_FIRST_NAME OWNER_ADDRESS1 OWNER_ADDRESS2\n",
       "1 DETROIT LAND BANK-HHF2                     65 CADILLAC               \n",
       "2 DETROIT LAND BANK-HHF2                     65 CADILLAC               \n",
       "  OWNER_CITY OWNER_STATE OWNER_ZIP           CONTRACTOR_LAST_NAME\n",
       "1    DETROIT          MI           DMC CONSULTANTS INC   2015 (W)\n",
       "2    DETROIT          MI           DMC CONSULTANTS INC   2015 (W)\n",
       "  CONTRACTOR_FIRST_NAME CONTRACTOR_ADDRESS1 CONTRACTOR_ADDRESS2 CONTRACTOR_CITY\n",
       "1                               13500 FOLEY                             DETROIT\n",
       "2                               13500 FOLEY                             DETROIT\n",
       "  CONTRACTOR_STATE CONTRACTOR_ZIP CONDITION_FOR_APPROVAL\n",
       "1                           48227                       \n",
       "2                           48227                       \n",
       "                                         site_location\n",
       "1      4331 BARHAM\\nDetroit, MI\\n(42.394106, -82.9474)\n",
       "2 9707 BESSEMORE\\nDetroit, MI\\n(42.395122, -83.005077)\n",
       "                                                      owner_location\n",
       "1 65 CADILLAC\\nDETROIT, MI\\n(42.331741326000042, -83.04515387899994)\n",
       "2 65 CADILLAC\\nDETROIT, MI\\n(42.331741326000042, -83.04515387899994)\n",
       "                                contractor_location geom\n",
       "1 13500 FOLEY\\nDETROIT, MI\\n(42.379332, -83.177501)     \n",
       "2 13500 FOLEY\\nDETROIT, MI\\n(42.379332, -83.177501)     "
      ]
     },
     "metadata": {},
     "output_type": "display_data"
    }
   ],
   "source": [
    "detdem[1:2,]"
   ]
  },
  {
   "cell_type": "code",
   "execution_count": 16,
   "metadata": {
    "collapsed": false
   },
   "outputs": [],
   "source": [
    "library(jsonlite)"
   ]
  },
  {
   "cell_type": "code",
   "execution_count": 20,
   "metadata": {
    "collapsed": false
   },
   "outputs": [],
   "source": [
    "\n",
    "url <- \"https://data.detroitmi.gov/resource/uzpg-2pfj.json\"\n",
    "detdemlive <- fromJSON(txt=url)"
   ]
  },
  {
   "cell_type": "code",
   "execution_count": 24,
   "metadata": {
    "collapsed": true
   },
   "outputs": [],
   "source": [
    "# url at socrata including token from personal Application account\n",
    "urldetdem <- \"https://data.detroitmi.gov/resource/uzpg-2pfj.json?$$app_token=B3uSqwUCzxfm3z1xCCV4enURf\""
   ]
  },
  {
   "cell_type": "code",
   "execution_count": 25,
   "metadata": {
    "collapsed": true
   },
   "outputs": [],
   "source": [
    "detdemlive <- fromJSON(txt=urldetdem)"
   ]
  },
  {
   "cell_type": "code",
   "execution_count": 26,
   "metadata": {
    "collapsed": true
   },
   "outputs": [],
   "source": [
    "# read url and convert to data.frame\n",
    "detdemlive$location <- NULL"
   ]
  },
  {
   "cell_type": "code",
   "execution_count": 27,
   "metadata": {
    "collapsed": false
   },
   "outputs": [
    {
     "data": {
      "text/html": [
       "<table>\n",
       "<thead><tr><th></th><th scope=col>address</th><th scope=col>commercial</th><th scope=col>contractor_name</th><th scope=col>council_district</th><th scope=col>demolition_date</th><th scope=col>latitude</th><th scope=col>location_address</th><th scope=col>longitude</th><th scope=col>parcel_id</th><th scope=col>price</th></tr></thead>\n",
       "<tbody>\n",
       "\t<tr><th scope=row>1</th><td>1319 Green</td><td>No</td><td>Homrich</td><td>6</td><td>2016-02-10T00:00:00.000</td><td>42.306876</td><td>1319 Green</td><td>-83.116669</td><td>18009074.</td><td>11200</td></tr>\n",
       "\t<tr><th scope=row>2</th><td>14612 Terry</td><td>No</td><td>Homrich</td><td>1</td><td>2016-02-10T00:00:00.000</td><td>42.396117</td><td>14612 Terry</td><td>-83.191366</td><td>22042996.</td><td>17500</td></tr>\n",
       "</tbody>\n",
       "</table>\n"
      ],
      "text/latex": [
       "\\begin{tabular}{r|llllllllll}\n",
       "  & address & commercial & contractor_name & council_district & demolition_date & latitude & location_address & longitude & parcel_id & price\\\\\n",
       "\\hline\n",
       "\t1 & 1319 Green & No & Homrich & 6 & 2016-02-10T00:00:00.000 & 42.306876 & 1319 Green & -83.116669 & 18009074. & 11200\\\\\n",
       "\t2 & 14612 Terry & No & Homrich & 1 & 2016-02-10T00:00:00.000 & 42.396117 & 14612 Terry & -83.191366 & 22042996. & 17500\\\\\n",
       "\\end{tabular}\n"
      ],
      "text/plain": [
       "      address commercial contractor_name council_district\n",
       "1  1319 Green         No         Homrich                6\n",
       "2 14612 Terry         No         Homrich                1\n",
       "          demolition_date  latitude location_address  longitude parcel_id price\n",
       "1 2016-02-10T00:00:00.000 42.306876       1319 Green -83.116669 18009074. 11200\n",
       "2 2016-02-10T00:00:00.000 42.396117      14612 Terry -83.191366 22042996. 17500"
      ]
     },
     "metadata": {},
     "output_type": "display_data"
    }
   ],
   "source": [
    "detdemlive[1:2,]"
   ]
  },
  {
   "cell_type": "code",
   "execution_count": 30,
   "metadata": {
    "collapsed": false
   },
   "outputs": [
    {
     "name": "stdout",
     "output_type": "stream",
     "text": [
      "'data.frame':\t7133 obs. of  55 variables:\n",
      " $ PERMIT_NO             : chr  \"BLD2015-03955\" \"BLD2015-04083\" \"BLD2015-03976\" \"BLD2015-03781\" ...\n",
      " $ PERMIT_APPLIED        : chr  \"8/28/15\" \"8/28/15\" \"8/28/15\" \"8/28/15\" ...\n",
      " $ PERMIT_ISSUED         : chr  \"8/28/15\" \"8/28/15\" \"8/28/15\" \"8/28/15\" ...\n",
      " $ PERMIT_EXPIRES        : chr  \"\" \"\" \"\" \"\" ...\n",
      " $ SITE_ADDRESS          : chr  \"4331  BARHAM\" \"9707  BESSEMORE\" \"5315  BERKSHIRE\" \"16670  BRINGARD DR\" ...\n",
      " $ BETWEEN1              : chr  \"BETWEEN VOIGHT AND WAVENEY\" \"BETWEEN VINTON AND GRATIOT\" \"BETWEEN SOUTHAMPTON AND FRANKFORT\" \"BETWEEN CUSHING AND SHAKESPEARE\" ...\n",
      " $ PARCEL_NO             : chr  \"21 65525-6\" \"19 2312.\" \"21 69321.\" \"21 25930.\" ...\n",
      " $ LOT_NUMBER            : chr  \"S15\" \"40\" \"445\" \"97\" ...\n",
      " $ SUBDIVISION           : chr  \"\" \"\" \"\" \"\" ...\n",
      " $ CASE_TYPE             : chr  \"BLD\" \"BLD\" \"BLD\" \"BLD\" ...\n",
      " $ CASE_DESCRIPTION      : chr  \"Building Permit\" \"Building Permit\" \"Building Permit\" \"Building Permit\" ...\n",
      " $ LEGAL_USE             : chr  \"I - FAM DWLG\" \"SINGLE FAMILY DWELLING\" \"I - FAM DWLG\" \"I - FAM DWLG\" ...\n",
      " $ ESTIMATED_COST        : chr  \"\" \"\" \"\" \"\" ...\n",
      " $ PARCEL_SIZE           : num  5184 3006 4487 5532 5184 ...\n",
      " $ PARCEL_CLUSTER_SECTOR : int  3 1 3 2 5 3 3 3 7 3 ...\n",
      " $ STORIES               : num  NA 1 NA NA NA NA NA NA NA NA ...\n",
      " $ PARCEL_FLOOR_AREA     : int  0 0 0 0 0 0 0 0 0 0 ...\n",
      " $ PARCEL_GROUND_AREA    : int  829 799 675 0 725 863 1161 1040 677 1222 ...\n",
      " $ PRC_AKA_ADDRESS       : chr  \"\" \"\" \"\" \"\" ...\n",
      " $ BLD_PERMIT_TYPE       : chr  \"Dismantle\" \"Dismantle\" \"Dismantle\" \"Dismantle\" ...\n",
      " $ PERMIT_DESCRIPTION    : chr  \"\" \"\" \"\" \"\" ...\n",
      " $ BLD_PERMIT_DESC       : chr  \"\" \"\" \"\" \"\" ...\n",
      " $ BLD_TYPE_USE          : chr  \"One Family Dwelling\" \"One Family Dwelling\" \"One Family Dwelling\" \"One Family Dwelling\" ...\n",
      " $ RESIDENTIAL           : chr  \"RESIDENTIAL\" \"RESIDENTIAL\" \"RESIDENTIAL\" \"RESIDENTIAL\" ...\n",
      " $ DESCRIPTION           : chr  \"\" \"\" \"\" \"\" ...\n",
      " $ BLD_TYPE_CONST_COD    : chr  \"5B\" \"5B\" \"5B\" \"5B\" ...\n",
      " $ BLD_ZONING_DIST       : chr  \"R2\" \"R1\" \"R2\" \"R2\" ...\n",
      " $ BLD_USE_GROUP         : chr  \"R3\" \"R3\" \"R3\" \"R3\" ...\n",
      " $ BLD_BASEMENT          : chr  \"Y\" \"\" \"Y\" \"Y\" ...\n",
      " $ FEE_TYPE              : chr  \"WPMT\" \"WPMT\" \"WPMT\" \"WPMT\" ...\n",
      " $ CSM_CASENO            : chr  \"BLD2015-03955\" \"BLD2015-04083\" \"BLD2015-03976\" \"BLD2015-03781\" ...\n",
      " $ CSF_CREATED_BY        : chr  \"RSA\" \"B-RB\" \"RSA\" \"RSA\" ...\n",
      " $ SEQ_NO                : int  1 1 1 1 1 1 1 1 1 1 ...\n",
      " $ PCF_AMT_PD            : chr  \"\" \"\" \"\" \"\" ...\n",
      " $ PCF_AMT_DUE           : chr  \"$238.00\" \"$238.00\" \"$238.00\" \"$238.00\" ...\n",
      " $ PCF_UPDATED           : chr  \"\" \"\" \"\" \"\" ...\n",
      " $ OWNER_LAST_NAME       : chr  \"DETROIT LAND BANK-HHF2\" \"DETROIT LAND BANK-HHF2\" \"DETROIT LAND BANK-HHF2\" \"DETROIT LAND BANK-HHF2\" ...\n",
      " $ OWNER_FIRST_NAME      : chr  \"\" \"\" \"\" \"\" ...\n",
      " $ OWNER_ADDRESS1        : chr  \"65 CADILLAC\" \"65 CADILLAC\" \"65 CADILLAC\" \"65 CADILLAC\" ...\n",
      " $ OWNER_ADDRESS2        : chr  \"\" \"\" \"\" \"\" ...\n",
      " $ OWNER_CITY            : chr  \"DETROIT\" \"DETROIT\" \"DETROIT\" \"DETROIT\" ...\n",
      " $ OWNER_STATE           : chr  \"MI\" \"MI\" \"MI\" \"MI\" ...\n",
      " $ OWNER_ZIP             : chr  \"\" \"\" \"\" \"\" ...\n",
      " $ CONTRACTOR_LAST_NAME  : chr  \"DMC CONSULTANTS INC   2015 (W)\" \"DMC CONSULTANTS INC   2015 (W)\" \"DMC CONSULTANTS INC   2015 (W)\" \"DMC CONSULTANTS INC   2015 (W)\" ...\n",
      " $ CONTRACTOR_FIRST_NAME : chr  \"\" \"\" \"\" \"\" ...\n",
      " $ CONTRACTOR_ADDRESS1   : chr  \"13500 FOLEY\" \"13500 FOLEY\" \"13500 FOLEY\" \"13500 FOLEY\" ...\n",
      " $ CONTRACTOR_ADDRESS2   : chr  \"\" \"\" \"\" \"\" ...\n",
      " $ CONTRACTOR_CITY       : chr  \"DETROIT\" \"DETROIT\" \"DETROIT\" \"DETROIT\" ...\n",
      " $ CONTRACTOR_STATE      : chr  \"\" \"\" \"\" \"\" ...\n",
      " $ CONTRACTOR_ZIP        : int  48227 48227 48227 48227 48227 48227 48227 48227 48227 48227 ...\n",
      " $ CONDITION_FOR_APPROVAL: chr  \"\" \"\" \"\" \"\" ...\n",
      " $ site_location         : chr  \"4331 BARHAM\\nDetroit, MI\\n(42.394106, -82.9474)\" \"9707 BESSEMORE\\nDetroit, MI\\n(42.395122, -83.005077)\" \"5315 BERKSHIRE\\nDetroit, MI\\n(42.40322, -82.946476)\" \"16670 BRINGARD DR\\nDetroit, MI\\n(42.44664, -82.947207)\" ...\n",
      " $ owner_location        : chr  \"65 CADILLAC\\nDETROIT, MI\\n(42.331741326000042, -83.04515387899994)\" \"65 CADILLAC\\nDETROIT, MI\\n(42.331741326000042, -83.04515387899994)\" \"65 CADILLAC\\nDETROIT, MI\\n(42.331741326000042, -83.04515387899994)\" \"65 CADILLAC\\nDETROIT, MI\\n(42.331741326000042, -83.04515387899994)\" ...\n",
      " $ contractor_location   : chr  \"13500 FOLEY\\nDETROIT, MI\\n(42.379332, -83.177501)\" \"13500 FOLEY\\nDETROIT, MI\\n(42.379332, -83.177501)\" \"13500 FOLEY\\nDETROIT, MI\\n(42.379332, -83.177501)\" \"13500 FOLEY\\nDETROIT, MI\\n(42.379332, -83.177501)\" ...\n",
      " $ geom                  : chr  \"\" \"\" \"\" \"\" ...\n"
     ]
    }
   ],
   "source": [
    "str(detdem)"
   ]
  }
 ],
 "metadata": {
  "kernelspec": {
   "display_name": "MRO 3.2.3 64",
   "language": "R",
   "name": "ir mro 2.3.2 64"
  },
  "language_info": {
   "codemirror_mode": "r",
   "file_extension": ".r",
   "mimetype": "text/x-r-source",
   "name": "R",
   "pygments_lexer": "r",
   "version": "3.2.3"
  }
 },
 "nbformat": 4,
 "nbformat_minor": 0
}
